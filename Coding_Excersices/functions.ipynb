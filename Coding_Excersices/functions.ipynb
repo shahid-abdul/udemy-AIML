{
 "cells": [
  {
   "cell_type": "code",
   "execution_count": 1,
   "metadata": {},
   "outputs": [
    {
     "name": "stdout",
     "output_type": "stream",
     "text": [
      "86.0\n"
     ]
    }
   ],
   "source": [
    "def celsius_to_fahrenheit(C):\n",
    "    F = (9/5 * C) + 32\n",
    "    return F\n",
    "temperature = float(input(\"C = \"))\n",
    "print(celsius_to_fahrenheit(temperature))"
   ]
  },
  {
   "cell_type": "code",
   "execution_count": 2,
   "metadata": {},
   "outputs": [
    {
     "data": {
      "text/plain": [
       "600.0"
      ]
     },
     "execution_count": 2,
     "metadata": {},
     "output_type": "execute_result"
    }
   ],
   "source": [
    "def area_of_rectangle(length, breadth):\n",
    "    return length*breadth\n",
    "\n",
    "l = float(input(\"Enter length: \"))\n",
    "b = float(input(\"Enter breadth: \"))\n",
    "area_of_rectangle(l,b)"
   ]
  },
  {
   "cell_type": "code",
   "execution_count": 5,
   "metadata": {},
   "outputs": [
    {
     "name": "stdout",
     "output_type": "stream",
     "text": [
      "Distance = 120.0\n"
     ]
    }
   ],
   "source": [
    "def calculate_distance(speed, time):\n",
    "    return speed*time\n",
    "s = float(input(\"Speed: \"))\n",
    "t = float(input(\"Time: \"))\n",
    "d = calculate_distance(s,t)\n",
    "print(f\"Distance = {d}\")"
   ]
  },
  {
   "cell_type": "code",
   "execution_count": 6,
   "metadata": {},
   "outputs": [
    {
     "name": "stdout",
     "output_type": "stream",
     "text": [
      "No of rounds = 1\n"
     ]
    }
   ],
   "source": [
    "def calculate_lift_rounds(n, capacity):\n",
    "    return n % capacity + 1\n",
    "n = int(input(\"Enter no of people: \"))\n",
    "c = int(input(\"Enter the capcity of lift: \"))\n",
    "print(f\"No of rounds = {calculate_lift_rounds(n,c)}\")"
   ]
  },
  {
   "cell_type": "code",
   "execution_count": 7,
   "metadata": {},
   "outputs": [
    {
     "name": "stdout",
     "output_type": "stream",
     "text": [
      "y = 11.0\n"
     ]
    }
   ],
   "source": [
    "def calculate_y(slope, intercept, x):\n",
    "    return slope * x + intercept\n",
    "m = float(input(\"Enter slope: \"))\n",
    "b = float(input(\"Enter intercept: \"))\n",
    "x = float(input(\"Enter x: \"))\n",
    "print(f\"y = {calculate_y(m,b,x)}\")\n"
   ]
  },
  {
   "cell_type": "code",
   "execution_count": 8,
   "metadata": {},
   "outputs": [
    {
     "name": "stdout",
     "output_type": "stream",
     "text": [
      "[1, 2, 3, 4]\n",
      "sum of values = 10\n"
     ]
    }
   ],
   "source": [
    "def sum_list(numbers):\n",
    "    sum = 0\n",
    "    for i in numbers:\n",
    "        sum += i\n",
    "    return sum\n",
    "n = int(input(\"No of values in lists: \"))\n",
    "lst = []\n",
    "for i in range(1,n+1):\n",
    "    values = int(input(\"Enter value: \"))\n",
    "    lst.append(values)\n",
    "print(lst)\n",
    "print(f\"sum of values = {sum_list(lst)}\")"
   ]
  },
  {
   "cell_type": "code",
   "execution_count": 9,
   "metadata": {},
   "outputs": [
    {
     "name": "stdout",
     "output_type": "stream",
     "text": [
      "[1, 2, 3, 4]\n",
      "Max value in list is: 4\n"
     ]
    }
   ],
   "source": [
    "def find_largest(numbers):\n",
    "    return max(numbers)\n",
    "n = int(input(\"No of values in lists: \"))\n",
    "lst = []\n",
    "for i in range(1,n+1):\n",
    "    values = int(input(\"Enter value: \"))\n",
    "    lst.append(values)\n",
    "print(lst)\n",
    "print(f\"Max value in list is: {find_largest(lst)}\")"
   ]
  },
  {
   "cell_type": "code",
   "execution_count": 12,
   "metadata": {},
   "outputs": [
    {
     "name": "stdout",
     "output_type": "stream",
     "text": [
      "Before: [1, 2, 3, 4, 1, 2]\n",
      "After: [1, 2, 3, 4]\n"
     ]
    }
   ],
   "source": [
    "def remove_duplicates(lst):\n",
    "    s = set(lst)\n",
    "    return list(s)\n",
    "n = int(input(\"No of values in lists: \"))\n",
    "lst = []\n",
    "for i in range(1,n+1):\n",
    "    values = int(input(\"Enter value: \"))\n",
    "    lst.append(values)\n",
    "print(f\"Before: {lst}\")\n",
    "print(f\"After: {remove_duplicates(lst)}\")"
   ]
  },
  {
   "cell_type": "code",
   "execution_count": 15,
   "metadata": {},
   "outputs": [
    {
     "name": "stdout",
     "output_type": "stream",
     "text": [
      "Before: [1, 2, 1, 2]\n",
      "Not unique\n"
     ]
    }
   ],
   "source": [
    "def check_unique(lst):\n",
    "    s = set(lst)\n",
    "    l = list(s)\n",
    "    if lst == l:\n",
    "        print(\"Unique\")\n",
    "    else:\n",
    "        print(\"Not unique\")\n",
    "n = int(input(\"No of values in lists: \"))\n",
    "lst = []\n",
    "for i in range(1,n+1):\n",
    "    values = int(input(\"Enter value: \"))\n",
    "    lst.append(values)\n",
    "print(lst)\n",
    "check_unique(lst)"
   ]
  },
  {
   "cell_type": "code",
   "execution_count": 20,
   "metadata": {},
   "outputs": [
    {
     "name": "stdout",
     "output_type": "stream",
     "text": [
      "Before: [1, 2, 3, 4]\n",
      "After: [4, 3, 2, 1]\n"
     ]
    }
   ],
   "source": [
    "def reverse_list(lst):\n",
    "    l1 = []\n",
    "    for i in range(len(lst)-1,-1,-1):\n",
    "        l1.append(lst[i])\n",
    "    return l1\n",
    "n = int(input(\"No of values in lists: \"))\n",
    "lst = []\n",
    "for i in range(1,n+1):\n",
    "    values = int(input(\"Enter value: \"))\n",
    "    lst.append(values)\n",
    "print(f\"Before: {lst}\")\n",
    "print(f\"After: {reverse_list(lst)}\")"
   ]
  },
  {
   "cell_type": "code",
   "execution_count": 3,
   "metadata": {},
   "outputs": [
    {
     "name": "stdout",
     "output_type": "stream",
     "text": [
      "No of lines: 3\n",
      "No of words: 23\n",
      "No of characters: 107\n"
     ]
    }
   ],
   "source": [
    "def count_text_file(file_path):\n",
    "    with open(file_path, 'r') as file:\n",
    "        lines = file.readlines()\n",
    "        line_count = len(lines)\n",
    "        word_count = sum(len(line.split()) for line in lines)\n",
    "        char_count = sum(len(line) for line in lines)\n",
    "    return line_count,word_count,char_count\n",
    "file_path = 'sample.txt'\n",
    "lines,words,characters = count_text_file(file_path)\n",
    "print(f\"No of lines: {lines}\\nNo of words: {words}\\nNo of characters: {characters}\")"
   ]
  },
  {
   "cell_type": "code",
   "execution_count": null,
   "metadata": {},
   "outputs": [],
   "source": []
  }
 ],
 "metadata": {
  "kernelspec": {
   "display_name": "udemy_venv",
   "language": "python",
   "name": "python3"
  },
  "language_info": {
   "codemirror_mode": {
    "name": "ipython",
    "version": 3
   },
   "file_extension": ".py",
   "mimetype": "text/x-python",
   "name": "python",
   "nbconvert_exporter": "python",
   "pygments_lexer": "ipython3",
   "version": "3.11.7"
  }
 },
 "nbformat": 4,
 "nbformat_minor": 2
}
