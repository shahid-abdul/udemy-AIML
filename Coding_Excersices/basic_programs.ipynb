{
 "cells": [
  {
   "cell_type": "markdown",
   "metadata": {},
   "source": [
    "## Manage a To Do list"
   ]
  },
  {
   "cell_type": "code",
   "execution_count": 1,
   "metadata": {},
   "outputs": [
    {
     "name": "stdout",
     "output_type": "stream",
     "text": [
      "Dont forget to pay the bills \n",
      "To do list remaining\n",
      "- Buy Grocessory\n",
      "- Pay the bills\n",
      "- Play BGMI\n",
      "- listening AI class\n",
      "- Go for a run\n"
     ]
    }
   ],
   "source": [
    "to_do_list = ['Buy Grocessory','cleaning the house','Pay the bills','Play BGMI']\n",
    "\n",
    "# creating a to do list\n",
    "to_do_list.append('listening AI class')\n",
    "to_do_list.append('Go for a run')\n",
    "\n",
    "#Removing a task\n",
    "to_do_list.remove('cleaning the house')\n",
    "\n",
    "if \"Pay the bills\" in to_do_list:\n",
    "    print(\"Dont forget to pay the bills \")\n",
    "print(\"To do list remaining\")\n",
    "for task in to_do_list:\n",
    "    print(f\"- {task}\")"
   ]
  },
  {
   "cell_type": "markdown",
   "metadata": {},
   "source": [
    "## Calculating student gardes"
   ]
  },
  {
   "cell_type": "code",
   "execution_count": 3,
   "metadata": {},
   "outputs": [
    {
     "name": "stdout",
     "output_type": "stream",
     "text": [
      "Marks Average - 94.0\n",
      "Highest Marks - 98\n",
      "Lowest Marks - 90\n",
      "Percentage - 94.0\n"
     ]
    }
   ],
   "source": [
    "marks = [92,93,94,97,98,90]\n",
    "avg = sum(marks)/len(marks)\n",
    "print(f\"Marks Average - {avg}\")\n",
    "\n",
    "hightest_marks = max(marks)\n",
    "print(f\"Highest Marks - {hightest_marks}\")\n",
    "\n",
    "lowest_marks = min(marks)\n",
    "print(f\"Lowest Marks - {lowest_marks}\")\n",
    "\n",
    "percentage = (sum(marks)/(len(marks)*100))*100\n",
    "print(f\"Percentage - {percentage}\")"
   ]
  },
  {
   "cell_type": "markdown",
   "metadata": {},
   "source": [
    "## Managing an Inventory"
   ]
  },
  {
   "cell_type": "code",
   "execution_count": 8,
   "metadata": {},
   "outputs": [
    {
     "name": "stdout",
     "output_type": "stream",
     "text": [
      "grapes is in stock\n"
     ]
    }
   ],
   "source": [
    "inventory = ['apples','mangos','bananas','guavas','oranges','grapes']\n",
    "n = input(\"Which fruit do you want?\")\n",
    "if n in inventory:\n",
    "    print(f\"{n} is in stock\")\n",
    "else:\n",
    "    print(f\"{n} is not stock\")"
   ]
  },
  {
   "cell_type": "code",
   "execution_count": null,
   "metadata": {},
   "outputs": [],
   "source": []
  }
 ],
 "metadata": {
  "kernelspec": {
   "display_name": "udemy_venv",
   "language": "python",
   "name": "python3"
  },
  "language_info": {
   "codemirror_mode": {
    "name": "ipython",
    "version": 3
   },
   "file_extension": ".py",
   "mimetype": "text/x-python",
   "name": "python",
   "nbconvert_exporter": "python",
   "pygments_lexer": "ipython3",
   "version": "3.11.7"
  }
 },
 "nbformat": 4,
 "nbformat_minor": 2
}
